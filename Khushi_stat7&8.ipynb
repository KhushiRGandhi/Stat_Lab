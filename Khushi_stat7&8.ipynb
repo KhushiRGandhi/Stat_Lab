{
  "nbformat": 4,
  "nbformat_minor": 0,
  "metadata": {
    "colab": {
      "provenance": []
    },
    "kernelspec": {
      "name": "python3",
      "display_name": "Python 3"
    },
    "language_info": {
      "name": "python"
    }
  },
  "cells": [
    {
      "cell_type": "code",
      "execution_count": null,
      "metadata": {
        "colab": {
          "base_uri": "https://localhost:8080/"
        },
        "id": "DoKlCArs2NzA",
        "outputId": "e5be026f-19b9-4e49-e1a0-d7171ca8ffba"
      },
      "outputs": [
        {
          "output_type": "stream",
          "name": "stdout",
          "text": [
            "New created array.2\r\n",
            "3\r\n",
            "4\r\n",
            "5\r\n",
            "6\r\n"
          ]
        }
      ],
      "source": [
        "import array\n",
        "arr = array.array('I',[2,3,4,5,6,7,8,9])\n",
        "print(\"New created array.\",end=\"\")\n",
        "for i in range (0,5):\n",
        "  print (arr[i],end=\"\")\n",
        "  print('\\r')"
      ]
    },
    {
      "cell_type": "code",
      "source": [
        "import pandas as pd\n",
        "dict = {'Name':[\"Neha\",\"Puja\",\"Sakshi\",\"Keya\"],'Age':[\"18\",\"19\",\"20\",\"17\"]}\n",
        "info = pd.DataFrame(dict, index=[201,202,203,204])\n",
        "print(info)\n"
      ],
      "metadata": {
        "colab": {
          "base_uri": "https://localhost:8080/"
        },
        "id": "zZM9Hk5R6YWV",
        "outputId": "2eafc234-49a1-44d2-d833-48b951e87a4f"
      },
      "execution_count": null,
      "outputs": [
        {
          "output_type": "stream",
          "name": "stdout",
          "text": [
            "       Name Age\n",
            "201    Neha  18\n",
            "202    Puja  19\n",
            "203  Sakshi  20\n",
            "204    Keya  17\n"
          ]
        }
      ]
    },
    {
      "cell_type": "code",
      "source": [
        "import pandas as pd\n",
        "dict = {'Name':[\"Neha\",\"Puja\",\"Sakshi\",\"Keya\"],'Age':[\"18\",\"19\",\"20\",\"17\"]}\n",
        "info = pd.DataFrame(dict, index=[201,202,201,204])\n",
        "print(info.loc[201])"
      ],
      "metadata": {
        "colab": {
          "base_uri": "https://localhost:8080/"
        },
        "id": "5_s2gh3t79VE",
        "outputId": "fc7719f2-10bb-4c88-b969-04c413f92ae2"
      },
      "execution_count": null,
      "outputs": [
        {
          "output_type": "stream",
          "name": "stdout",
          "text": [
            "       Name Age\n",
            "201    Neha  18\n",
            "201  Sakshi  20\n"
          ]
        }
      ]
    },
    {
      "cell_type": "code",
      "source": [
        "import numpy as np\n",
        "arr = np.arange(16)\n",
        "print (\"Original array is :\\n\",arr)\n",
        "arr = np.arange(16).reshape(4,4)\n",
        "print (\"Reshaped array is :\\n\",arr)"
      ],
      "metadata": {
        "colab": {
          "base_uri": "https://localhost:8080/"
        },
        "id": "s9tOU64m8yKW",
        "outputId": "937cc09d-ef32-4aac-f75f-a03322e7369b"
      },
      "execution_count": null,
      "outputs": [
        {
          "output_type": "stream",
          "name": "stdout",
          "text": [
            "Original array is :\n",
            " [ 0  1  2  3  4  5  6  7  8  9 10 11 12 13 14 15]\n",
            "Reshaped array is :\n",
            " [[ 0  1  2  3]\n",
            " [ 4  5  6  7]\n",
            " [ 8  9 10 11]\n",
            " [12 13 14 15]]\n"
          ]
        }
      ]
    },
    {
      "cell_type": "code",
      "source": [
        "import numpy as np\n",
        "a = np.array([1,2,3])\n",
        "print(type(a),\"\\n\")\n",
        "print(a.shape)\n",
        "print(a[0],a[1],a[2],\"\\n\")\n",
        "a[0] = 5\n",
        "print(a,\"\\n\")\n",
        "b = np.array([[1,2,3],[4,5,6]])\n",
        "print(b.shape)\n",
        "print(b[0,0],b[0,1],b[1,0],\"\\n\")\n",
        "\n",
        "a = np.zeros((2,2))\n",
        "print(a,\"\\n\")\n",
        "\n",
        "b = np.ones((1,2))\n",
        "print(b,\"\\n\")\n",
        "\n",
        "c = np.full((2,2),7)\n",
        "print(c,\"\\n\")\n",
        "\n",
        "d = np.eye(2)\n",
        "print(d,\"\\n\")\n",
        "\n",
        "e = np.random.random((2,2))\n",
        "print(e)"
      ],
      "metadata": {
        "colab": {
          "base_uri": "https://localhost:8080/"
        },
        "id": "24GYx2Gq-JP9",
        "outputId": "3fde8b3a-6ee2-4bbc-aa34-04601eab56d4"
      },
      "execution_count": null,
      "outputs": [
        {
          "output_type": "stream",
          "name": "stdout",
          "text": [
            "<class 'numpy.ndarray'> \n",
            "\n",
            "(3,)\n",
            "1 2 3 \n",
            "\n",
            "[5 2 3] \n",
            "\n",
            "(2, 3)\n",
            "1 2 4 \n",
            "\n",
            "[[0. 0.]\n",
            " [0. 0.]] \n",
            "\n",
            "[[1. 1.]] \n",
            "\n",
            "[[7 7]\n",
            " [7 7]] \n",
            "\n",
            "[[1. 0.]\n",
            " [0. 1.]] \n",
            "\n",
            "[[0.3022461  0.96896422]\n",
            " [0.12552725 0.43283205]]\n"
          ]
        }
      ]
    },
    {
      "cell_type": "code",
      "source": [
        "import numpy as np\n",
        "a = np.array([[1,2,3,4],[5,6,7,8],[9,10,11,12]])\n",
        "b = a[:2, 1:3]\n",
        "print (a[0,1])\n",
        "b[0,0] = 77\n",
        "print (a[0,1])\n"
      ],
      "metadata": {
        "colab": {
          "base_uri": "https://localhost:8080/"
        },
        "id": "qs4yqOTN-v1u",
        "outputId": "182e798f-c2c9-47de-8643-dc214768905d"
      },
      "execution_count": null,
      "outputs": [
        {
          "output_type": "stream",
          "name": "stdout",
          "text": [
            "2\n",
            "77\n"
          ]
        }
      ]
    },
    {
      "cell_type": "code",
      "source": [
        "import numpy as np\n",
        "a = np.array([[1,2,3,4],[5,6,7,8],[9,10,11,12]])\n",
        "r1 = a[1, :]\n",
        "r2 = a[1:2, :]\n",
        "print(r1,r1.shape)\n",
        "print(r2,r2.shape,\"\\n\")\n",
        "c1 = a[: ,1]\n",
        "c2 = a[: ,1:2]\n",
        "print(c1,\"\\t\",c1.shape,\"\\n\")\n",
        "print(c2,c2.shape,\"\\n\")\n"
      ],
      "metadata": {
        "colab": {
          "base_uri": "https://localhost:8080/"
        },
        "id": "uZN7qi62EKLk",
        "outputId": "9aaa407a-b036-4d32-caee-955a37b5639a"
      },
      "execution_count": null,
      "outputs": [
        {
          "output_type": "stream",
          "name": "stdout",
          "text": [
            "[5 6 7 8] (4,)\n",
            "[[5 6 7 8]] (1, 4) \n",
            "\n",
            "[ 2  6 10] \t (3,) \n",
            "\n",
            "[[ 2]\n",
            " [ 6]\n",
            " [10]] (3, 1) \n",
            "\n"
          ]
        }
      ]
    },
    {
      "cell_type": "code",
      "source": [
        "import numpy as np\n",
        "a = np.array([[1,2],[3,4],[5,6]])\n",
        "print(a[[0,1,2],[0,1,0]],\"\\n\")\n",
        "print(np.array([a[0,0],a[1,1],a[2,0]]),\"\\n\")\n",
        "print(a[[0,0],[1,1]],\"\\n\")\n",
        "print(np.array([a[0,1],a[0,1]]),\"\\n\")\n"
      ],
      "metadata": {
        "colab": {
          "base_uri": "https://localhost:8080/"
        },
        "id": "4ae-IkynGGDt",
        "outputId": "e0e7e155-53aa-4fe0-e421-ac000faf5f60"
      },
      "execution_count": null,
      "outputs": [
        {
          "output_type": "stream",
          "name": "stdout",
          "text": [
            "[1 4 5] \n",
            "\n",
            "[1 4 5] \n",
            "\n",
            "[2 2] \n",
            "\n"
          ]
        }
      ]
    },
    {
      "cell_type": "code",
      "source": [
        "import numpy as np\n",
        "a = np.array([[1,2],[3,4],[5,6]])\n",
        "idx = (a > 2)\n",
        "print(idx,\"\\n\")\n",
        "print(a[idx],\"\\n\")\n",
        "print(a[a>2],\"\\n\")"
      ],
      "metadata": {
        "id": "o7VTJkdPckOi",
        "colab": {
          "base_uri": "https://localhost:8080/"
        },
        "outputId": "1d9a5772-14a5-462d-8a94-45f32604323f"
      },
      "execution_count": 2,
      "outputs": [
        {
          "output_type": "stream",
          "name": "stdout",
          "text": [
            "[[False False]\n",
            " [ True  True]\n",
            " [ True  True]] \n",
            "\n",
            "[3 4 5 6] \n",
            "\n",
            "[3 4 5 6] \n",
            "\n"
          ]
        }
      ]
    },
    {
      "cell_type": "code",
      "source": [
        "import numpy as np\n",
        "x = np.array([1,2])\n",
        "print(x.dtype,\"\\n\")\n",
        "x = np.array([1.5,2.5])\n",
        "print(x.dtype,\"\\n\")\n",
        "x = np.array([1,2],dtype=np.int64)\n",
        "print(x.dtype)"
      ],
      "metadata": {
        "colab": {
          "base_uri": "https://localhost:8080/"
        },
        "id": "F3IL5gBImBkF",
        "outputId": "98bc9465-0c0f-4186-f1fa-9941abdf1865"
      },
      "execution_count": 5,
      "outputs": [
        {
          "output_type": "stream",
          "name": "stdout",
          "text": [
            "int64 \n",
            "\n",
            "float64 \n",
            "\n",
            "int64\n"
          ]
        }
      ]
    }
  ]
}