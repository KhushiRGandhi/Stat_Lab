{
  "nbformat": 4,
  "nbformat_minor": 0,
  "metadata": {
    "colab": {
      "provenance": []
    },
    "kernelspec": {
      "name": "python3",
      "display_name": "Python 3"
    },
    "language_info": {
      "name": "python"
    }
  },
  "cells": [
    {
      "cell_type": "code",
      "execution_count": 1,
      "metadata": {
        "colab": {
          "base_uri": "https://localhost:8080/"
        },
        "id": "kk1O_9pA6VTw",
        "outputId": "de548038-39b6-428f-c9cd-807412e94301"
      },
      "outputs": [
        {
          "output_type": "stream",
          "name": "stdout",
          "text": [
            "0    K\n",
            "1    H\n",
            "2    U\n",
            "3    S\n",
            "4    H\n",
            "5    I\n",
            "dtype: object\n"
          ]
        }
      ],
      "source": [
        "import pandas as pd\n",
        "import numpy as np\n",
        "new_array=np.array(['K','H','U','S','H','I'])\n",
        "call=pd.Series(new_array)\n",
        "print(call)"
      ]
    },
    {
      "cell_type": "code",
      "source": [
        "import pandas as pd\n",
        "list=['Python','Panther','Java']\n",
        "df= pd.DataFrame(list)\n",
        "print(df)"
      ],
      "metadata": {
        "colab": {
          "base_uri": "https://localhost:8080/"
        },
        "id": "42ljRmuECPrx",
        "outputId": "45ddaf07-579c-430d-c219-e90e74d2709b"
      },
      "execution_count": 2,
      "outputs": [
        {
          "output_type": "stream",
          "name": "stdout",
          "text": [
            "         0\n",
            "0   Python\n",
            "1  Panther\n",
            "2     Java\n"
          ]
        }
      ]
    },
    {
      "cell_type": "code",
      "source": [
        "import pandas as pd\n",
        "import numpy as np\n",
        "array= pd.Series(['ASUS','DELL','HP','LENOVO'])\n",
        "array.map({'DELL':'LAPTOP','HP':'DESKTOP'})"
      ],
      "metadata": {
        "colab": {
          "base_uri": "https://localhost:8080/"
        },
        "id": "aycaaQh-Cjmx",
        "outputId": "0834b898-bb29-41ed-b1d9-f1fa74f26428"
      },
      "execution_count": 3,
      "outputs": [
        {
          "output_type": "execute_result",
          "data": {
            "text/plain": [
              "0        NaN\n",
              "1     LAPTOP\n",
              "2    DESKTOP\n",
              "3        NaN\n",
              "dtype: object"
            ]
          },
          "metadata": {},
          "execution_count": 3
        }
      ]
    },
    {
      "cell_type": "code",
      "source": [
        "a= pd.Series(['MH','JK','GJ',np.nan])\n",
        "a.map({'MH':'PILOT'})\n",
        "a.map('I like {}'.format, na_action='ignore')"
      ],
      "metadata": {
        "colab": {
          "base_uri": "https://localhost:8080/"
        },
        "id": "etBpL2Q7DBkJ",
        "outputId": "de9209ff-ef81-4eee-ca02-cbbb039fb563"
      },
      "execution_count": 4,
      "outputs": [
        {
          "output_type": "execute_result",
          "data": {
            "text/plain": [
              "0    I like MH\n",
              "1    I like JK\n",
              "2    I like GJ\n",
              "3          NaN\n",
              "dtype: object"
            ]
          },
          "metadata": {},
          "execution_count": 4
        }
      ]
    },
    {
      "cell_type": "code",
      "source": [
        "s=pd.Series(['A','B','C'])\n",
        "name=\"ALPHA\"\n",
        "s.to_frame()"
      ],
      "metadata": {
        "colab": {
          "base_uri": "https://localhost:8080/",
          "height": 324
        },
        "id": "Jl0z12ZMDXmf",
        "outputId": "871c5ddf-4488-4d74-d2d5-8ab839ce2c52"
      },
      "execution_count": 5,
      "outputs": [
        {
          "output_type": "execute_result",
          "data": {
            "text/plain": [
              "   0\n",
              "0  A\n",
              "1  B\n",
              "2  C"
            ],
            "text/html": [
              "\n",
              "  <div id=\"df-37b62f96-5158-4335-8f5d-d2e791609557\" class=\"colab-df-container\">\n",
              "    <div>\n",
              "<style scoped>\n",
              "    .dataframe tbody tr th:only-of-type {\n",
              "        vertical-align: middle;\n",
              "    }\n",
              "\n",
              "    .dataframe tbody tr th {\n",
              "        vertical-align: top;\n",
              "    }\n",
              "\n",
              "    .dataframe thead th {\n",
              "        text-align: right;\n",
              "    }\n",
              "</style>\n",
              "<table border=\"1\" class=\"dataframe\">\n",
              "  <thead>\n",
              "    <tr style=\"text-align: right;\">\n",
              "      <th></th>\n",
              "      <th>0</th>\n",
              "    </tr>\n",
              "  </thead>\n",
              "  <tbody>\n",
              "    <tr>\n",
              "      <th>0</th>\n",
              "      <td>A</td>\n",
              "    </tr>\n",
              "    <tr>\n",
              "      <th>1</th>\n",
              "      <td>B</td>\n",
              "    </tr>\n",
              "    <tr>\n",
              "      <th>2</th>\n",
              "      <td>C</td>\n",
              "    </tr>\n",
              "  </tbody>\n",
              "</table>\n",
              "</div>\n",
              "    <div class=\"colab-df-buttons\">\n",
              "\n",
              "  <div class=\"colab-df-container\">\n",
              "    <button class=\"colab-df-convert\" onclick=\"convertToInteractive('df-37b62f96-5158-4335-8f5d-d2e791609557')\"\n",
              "            title=\"Convert this dataframe to an interactive table.\"\n",
              "            style=\"display:none;\">\n",
              "\n",
              "  <svg xmlns=\"http://www.w3.org/2000/svg\" height=\"24px\" viewBox=\"0 -960 960 960\">\n",
              "    <path d=\"M120-120v-720h720v720H120Zm60-500h600v-160H180v160Zm220 220h160v-160H400v160Zm0 220h160v-160H400v160ZM180-400h160v-160H180v160Zm440 0h160v-160H620v160ZM180-180h160v-160H180v160Zm440 0h160v-160H620v160Z\"/>\n",
              "  </svg>\n",
              "    </button>\n",
              "\n",
              "  <style>\n",
              "    .colab-df-container {\n",
              "      display:flex;\n",
              "      gap: 12px;\n",
              "    }\n",
              "\n",
              "    .colab-df-convert {\n",
              "      background-color: #E8F0FE;\n",
              "      border: none;\n",
              "      border-radius: 50%;\n",
              "      cursor: pointer;\n",
              "      display: none;\n",
              "      fill: #1967D2;\n",
              "      height: 32px;\n",
              "      padding: 0 0 0 0;\n",
              "      width: 32px;\n",
              "    }\n",
              "\n",
              "    .colab-df-convert:hover {\n",
              "      background-color: #E2EBFA;\n",
              "      box-shadow: 0px 1px 2px rgba(60, 64, 67, 0.3), 0px 1px 3px 1px rgba(60, 64, 67, 0.15);\n",
              "      fill: #174EA6;\n",
              "    }\n",
              "\n",
              "    .colab-df-buttons div {\n",
              "      margin-bottom: 4px;\n",
              "    }\n",
              "\n",
              "    [theme=dark] .colab-df-convert {\n",
              "      background-color: #3B4455;\n",
              "      fill: #D2E3FC;\n",
              "    }\n",
              "\n",
              "    [theme=dark] .colab-df-convert:hover {\n",
              "      background-color: #434B5C;\n",
              "      box-shadow: 0px 1px 3px 1px rgba(0, 0, 0, 0.15);\n",
              "      filter: drop-shadow(0px 1px 2px rgba(0, 0, 0, 0.3));\n",
              "      fill: #FFFFFF;\n",
              "    }\n",
              "  </style>\n",
              "\n",
              "    <script>\n",
              "      const buttonEl =\n",
              "        document.querySelector('#df-37b62f96-5158-4335-8f5d-d2e791609557 button.colab-df-convert');\n",
              "      buttonEl.style.display =\n",
              "        google.colab.kernel.accessAllowed ? 'block' : 'none';\n",
              "\n",
              "      async function convertToInteractive(key) {\n",
              "        const element = document.querySelector('#df-37b62f96-5158-4335-8f5d-d2e791609557');\n",
              "        const dataTable =\n",
              "          await google.colab.kernel.invokeFunction('convertToInteractive',\n",
              "                                                    [key], {});\n",
              "        if (!dataTable) return;\n",
              "\n",
              "        const docLinkHtml = 'Like what you see? Visit the ' +\n",
              "          '<a target=\"_blank\" href=https://colab.research.google.com/notebooks/data_table.ipynb>data table notebook</a>'\n",
              "          + ' to learn more about interactive tables.';\n",
              "        element.innerHTML = '';\n",
              "        dataTable['output_type'] = 'display_data';\n",
              "        await google.colab.output.renderOutput(dataTable, element);\n",
              "        const docLink = document.createElement('div');\n",
              "        docLink.innerHTML = docLinkHtml;\n",
              "        element.appendChild(docLink);\n",
              "      }\n",
              "    </script>\n",
              "  </div>\n",
              "\n",
              "\n",
              "<div id=\"df-567c7707-5b8a-4218-ab16-b4d827afbcf6\">\n",
              "  <button class=\"colab-df-quickchart\" onclick=\"quickchart('df-567c7707-5b8a-4218-ab16-b4d827afbcf6')\"\n",
              "            title=\"Suggest charts\"\n",
              "            style=\"display:none;\">\n",
              "\n",
              "<svg xmlns=\"http://www.w3.org/2000/svg\" height=\"24px\"viewBox=\"0 0 24 24\"\n",
              "     width=\"24px\">\n",
              "    <g>\n",
              "        <path d=\"M19 3H5c-1.1 0-2 .9-2 2v14c0 1.1.9 2 2 2h14c1.1 0 2-.9 2-2V5c0-1.1-.9-2-2-2zM9 17H7v-7h2v7zm4 0h-2V7h2v10zm4 0h-2v-4h2v4z\"/>\n",
              "    </g>\n",
              "</svg>\n",
              "  </button>\n",
              "\n",
              "<style>\n",
              "  .colab-df-quickchart {\n",
              "      --bg-color: #E8F0FE;\n",
              "      --fill-color: #1967D2;\n",
              "      --hover-bg-color: #E2EBFA;\n",
              "      --hover-fill-color: #174EA6;\n",
              "      --disabled-fill-color: #AAA;\n",
              "      --disabled-bg-color: #DDD;\n",
              "  }\n",
              "\n",
              "  [theme=dark] .colab-df-quickchart {\n",
              "      --bg-color: #3B4455;\n",
              "      --fill-color: #D2E3FC;\n",
              "      --hover-bg-color: #434B5C;\n",
              "      --hover-fill-color: #FFFFFF;\n",
              "      --disabled-bg-color: #3B4455;\n",
              "      --disabled-fill-color: #666;\n",
              "  }\n",
              "\n",
              "  .colab-df-quickchart {\n",
              "    background-color: var(--bg-color);\n",
              "    border: none;\n",
              "    border-radius: 50%;\n",
              "    cursor: pointer;\n",
              "    display: none;\n",
              "    fill: var(--fill-color);\n",
              "    height: 32px;\n",
              "    padding: 0;\n",
              "    width: 32px;\n",
              "  }\n",
              "\n",
              "  .colab-df-quickchart:hover {\n",
              "    background-color: var(--hover-bg-color);\n",
              "    box-shadow: 0 1px 2px rgba(60, 64, 67, 0.3), 0 1px 3px 1px rgba(60, 64, 67, 0.15);\n",
              "    fill: var(--button-hover-fill-color);\n",
              "  }\n",
              "\n",
              "  .colab-df-quickchart-complete:disabled,\n",
              "  .colab-df-quickchart-complete:disabled:hover {\n",
              "    background-color: var(--disabled-bg-color);\n",
              "    fill: var(--disabled-fill-color);\n",
              "    box-shadow: none;\n",
              "  }\n",
              "\n",
              "  .colab-df-spinner {\n",
              "    border: 2px solid var(--fill-color);\n",
              "    border-color: transparent;\n",
              "    border-bottom-color: var(--fill-color);\n",
              "    animation:\n",
              "      spin 1s steps(1) infinite;\n",
              "  }\n",
              "\n",
              "  @keyframes spin {\n",
              "    0% {\n",
              "      border-color: transparent;\n",
              "      border-bottom-color: var(--fill-color);\n",
              "      border-left-color: var(--fill-color);\n",
              "    }\n",
              "    20% {\n",
              "      border-color: transparent;\n",
              "      border-left-color: var(--fill-color);\n",
              "      border-top-color: var(--fill-color);\n",
              "    }\n",
              "    30% {\n",
              "      border-color: transparent;\n",
              "      border-left-color: var(--fill-color);\n",
              "      border-top-color: var(--fill-color);\n",
              "      border-right-color: var(--fill-color);\n",
              "    }\n",
              "    40% {\n",
              "      border-color: transparent;\n",
              "      border-right-color: var(--fill-color);\n",
              "      border-top-color: var(--fill-color);\n",
              "    }\n",
              "    60% {\n",
              "      border-color: transparent;\n",
              "      border-right-color: var(--fill-color);\n",
              "    }\n",
              "    80% {\n",
              "      border-color: transparent;\n",
              "      border-right-color: var(--fill-color);\n",
              "      border-bottom-color: var(--fill-color);\n",
              "    }\n",
              "    90% {\n",
              "      border-color: transparent;\n",
              "      border-bottom-color: var(--fill-color);\n",
              "    }\n",
              "  }\n",
              "</style>\n",
              "\n",
              "  <script>\n",
              "    async function quickchart(key) {\n",
              "      const quickchartButtonEl =\n",
              "        document.querySelector('#' + key + ' button');\n",
              "      quickchartButtonEl.disabled = true;  // To prevent multiple clicks.\n",
              "      quickchartButtonEl.classList.add('colab-df-spinner');\n",
              "      try {\n",
              "        const charts = await google.colab.kernel.invokeFunction(\n",
              "            'suggestCharts', [key], {});\n",
              "      } catch (error) {\n",
              "        console.error('Error during call to suggestCharts:', error);\n",
              "      }\n",
              "      quickchartButtonEl.classList.remove('colab-df-spinner');\n",
              "      quickchartButtonEl.classList.add('colab-df-quickchart-complete');\n",
              "    }\n",
              "    (() => {\n",
              "      let quickchartButtonEl =\n",
              "        document.querySelector('#df-567c7707-5b8a-4218-ab16-b4d827afbcf6 button');\n",
              "      quickchartButtonEl.style.display =\n",
              "        google.colab.kernel.accessAllowed ? 'block' : 'none';\n",
              "    })();\n",
              "  </script>\n",
              "</div>\n",
              "\n",
              "    </div>\n",
              "  </div>\n"
            ],
            "application/vnd.google.colaboratory.intrinsic+json": {
              "type": "dataframe",
              "summary": "{\n  \"name\": \"s\",\n  \"rows\": 3,\n  \"fields\": [\n    {\n      \"column\": 0,\n      \"properties\": {\n        \"dtype\": \"string\",\n        \"num_unique_values\": 3,\n        \"samples\": [\n          \"A\",\n          \"B\",\n          \"C\"\n        ],\n        \"semantic_type\": \"\",\n        \"description\": \"\"\n      }\n    }\n  ]\n}"
            }
          },
          "metadata": {},
          "execution_count": 5
        },
        {
          "output_type": "display_data",
          "data": {
            "text/plain": [
              "<google.colab._quickchart_helpers.SectionTitle at 0x7d8d553f1ae0>"
            ],
            "text/html": [
              "<h4 class=\"colab-quickchart-section-title\">Categorical distributions</h4>\n",
              "<style>\n",
              "  .colab-quickchart-section-title {\n",
              "      clear: both;\n",
              "  }\n",
              "</style>"
            ]
          },
          "metadata": {}
        },
        {
          "output_type": "display_data",
          "data": {
            "text/plain": [
              "from matplotlib import pyplot as plt\n",
              "import seaborn as sns\n",
              "_df_0.groupby(0).size().plot(kind='barh', color=sns.palettes.mpl_palette('Dark2'))\n",
              "plt.gca().spines[['top', 'right',]].set_visible(False)"
            ],
            "text/html": [
              "      <div class=\"colab-quickchart-chart-with-code\" id=\"chart-280eff0b-5f83-4346-aea3-54720c89a5f0\">\n",
              "        <img style=\"width: 180px;\" src=\"data:image/png;base64,iVBORw0KGgoAAAANSUhEUgAAAiAAAAGZCAYAAACwpIo8AAAAOXRFWHRTb2Z0d2FyZQBNYXRwbG90\n",
              "bGliIHZlcnNpb24zLjcuMSwgaHR0cHM6Ly9tYXRwbG90bGliLm9yZy/bCgiHAAAACXBIWXMAAA9h\n",
              "AAAPYQGoP6dpAAARaklEQVR4nO3dfWydddnA8atbyQkR121swJ66rZYN6QpsjjGNCG6gYTFbNExe\n",
              "DAace1FjooHELUtMCEoyQhRj9A+QTAb4z8KLCgjEyIRgIqgZBIGZZ3MvrVoQRFrwpVvX3/OHoc/T\n",
              "h20ccOe6u9PPJzl/7Ow+vS+uLJzv7nN3bSmllAAASDSh6gEAgPFHgAAA6QQIAJBOgAAA6QQIAJBO\n",
              "gAAA6QQIAJBOgAAA6QQIAJBuTAfId77znapHAAAaYEwHyL59+6oeAQBogDEdIABAcxIgAEA6AQIA\n",
              "pBMgAEA6AQIApBMgAEA6AQIApBMgAEA6AQIApBMgAEA6AQIApBMgAEA6AQIApBMgAEA6AQIApBMg\n",
              "AEA6AQIApBMgAEA6AQIApBMgAEA6AQIApBMgAEA6AQIApBMgAEA6AQIApBMgAEA6AQIApBMgAEC6\n",
              "llJKqXqIw1m08JNxwUfWVD0GADSVG7+9vOoRXAEBAPIJEAAgnQABANIJEAAgnQABANIJEAAgnQAB\n",
              "ANIJEAAgnQABANIJEAAgnQABANIJEAAgnQABANIJEAAgnQABANIJEAAgnQABANIJEAAgnQABANIJ\n",
              "EAAgnQABANIJEAAgnQABANIJEAAgnQABANIJEAAgnQABANI1NECGhobiuuuui9NPPz3OOOOMWLBg\n",
              "Qaxbty5effXVRp4WABjjWhv5xVevXh2vvPJK/OpXv4opU6ZEKSXuvvvueOWVV2Ly5MmNPDUAMIY1\n",
              "LEB27doVd911V/T09MSUKVMiIqKlpSUuueSSQx4/ODgYg4ODo54rw8ONGg8AqFDDPoLZvn17zJ07\n",
              "N6ZNm1bX8Zs2bYq2trZRj74X/7tR4wEAFRozN6Fu3Lgx+vv7Rz1mnHxa1WMBAA3QsI9gFi5cGDt3\n",
              "7oy//vWvceKJJ77l8bVaLWq12qjnWiaMmT4CAI6ihr3Dz5kzJ1auXBmrV68e+a6XUkrcc889sXv3\n",
              "7kadFgA4BjT0EsMPfvCDmD9/fnzgAx+I7u7umDdvXvzsZz+LqVOnNvK0AMAY11JKKVUPcTiLFn4y\n",
              "LvjImqrHAICmcuO3l1c9wti5CRUAGD8ECACQToAAAOkECACQToAAAOkECACQToAAAOkECACQToAA\n",
              "AOkECACQToAAAOkECACQToAAAOkECACQToAAAOkECACQToAAAOkECACQToAAAOkECACQToAAAOkE\n",
              "CACQToAAAOkECACQToAAAOlaqx7gSM5f0hk33rS86jEAgKPMFRAAIJ0AAQDSCRAAIJ0AAQDSCRAA\n",
              "IJ0AAQDSCRAAIJ0AAQDSCRAAIJ0AAQDSCRAAIJ0AAQDSCRAAIJ0AAQDSCRAAIJ0AAQDSCRAAIJ0A\n",
              "AQDSCRAAIJ0AAQDSCRAAIJ0AAQDSCRAAIJ0AAQDSCRAAIJ0AAQDSCRAAIJ0AAQDSCRAAIJ0AAQDS\n",
              "CRAAIJ0AAQDSCRAAIJ0AAQDSCRAAIJ0AAQDSCRAAIJ0AAQDSCRAAIJ0AAQDSCRAAIJ0AAQDSCRAA\n",
              "IJ0AAQDSCRAAIJ0AAQDSCRAAIJ0AAQDSCRAAIJ0AAQDSCRAAIJ0AAQDSCRAAIJ0AAQDSCRAAIJ0A\n",
              "AQDSCRAAIJ0AAQDSCRAAIJ0AAQDSCRAAIF1LKaVUPcThrOpuiY3naCQAOJpO23Kw6hFcAQEA8gkQ\n",
              "ACCdAAEA0gkQACCdAAEA0gkQACCdAAEA0gkQACCdAAEA0gkQACCdAAEA0gkQACCdAAEA0gkQACCd\n",
              "AAEA0gkQACCdAAEA0gkQACCdAAEA0gkQACCdAAEA0gkQACCdAAEA0gkQACCdAAEA0gkQACBdayO/\n",
              "eEdHR9RqtTj++ONjcHAw3v/+98ett94a73rXuxp5WgBgjHvbV0B2794djz76aDz66KOxe/futzx+\n",
              "69at8fTTT8dzzz0X/f39sWXLlncyJwDQROq+ArJjx4646qqrore3N2bNmhURET09PTFz5sy47bbb\n",
              "oru7+4iv379/f/zjH/+IKVOmHPL3BwcHY3BwcNRzB4frnQ4AOJbUfQXks5/9bGzYsCH6+vriySef\n",
              "jCeffDL6+vpi/fr1sWrVqsO+7rLLLosFCxbEKaecEhMmTIhLL730kMdt2rQp2traRj2eefnt/wcB\n",
              "AGNf3QHy6quvxsqVK9/0/Kc+9ano7+8/7Ove+Ajm5Zdfjo6OjtiwYcMhj9u4cWP09/ePepw1rd7p\n",
              "AIBjSd0BMm3atLjzzjtjePh/PxcZHh6O22+/PU488cS3fH1ra2usXLkyHn744UP+fq1Wi0mTJo16\n",
              "TPQ9OgDQlOp+i7/99ttjy5YtMXXq1Ojq6oqurq6YOnXqyPP12LZtW7zvfe97p7MCAE2i7ptQ58yZ\n",
              "E4888ki89NJL0dvbGxERM2fOjOnTpx/xdZdddlkcf/zxMTQ0FLNnz46bb775P5sYADjmve1/B2T6\n",
              "9OlvGR1v2Lt379v98gDAOOAuCwAgnQABANIJEAAgnQABANIJEAAgnQABANIJEAAgnQABANIJEAAg\n",
              "nQABANIJEAAgnQABANIJEAAgnQABANIJEAAgnQABANIJEAAgnQABANIJEAAgnQABANIJEAAgnQAB\n",
              "ANIJEAAgnQABANIJEAAgXWvVAxzJlIuujtNuuqnqMQCAo8wVEAAgnQABANIJEAAgnQABANIJEAAg\n",
              "nQABANIJEAAgnQABANIJEAAgnQABANIJEAAgnQABANIJEAAgnQABANIJEAAgnQABANIJEAAgnQAB\n",
              "ANIJEAAgnQABANIJEAAgnQABANIJEAAgnQABANIJEAAgnQABANIJEAAgnQABANIJEAAgnQABANIJ\n",
              "EAAgnQABANIJEAAgnQABANIJEAAgnQABANIJEAAgnQABANIJEAAgnQABANIJEAAgnQABANIJEAAg\n",
              "nQABANIJEAAgnQABANIJEAAgnQABANIJEAAgnQABANIJEAAgnQABANIJEAAgnQABANIJEAAgnQAB\n",
              "ANIJEAAgnQABANIJEAAgnQABANIJEAAgXUsppVQ9xOGccNE5MfnyC6seAwCayh9X3VD1CK6AAAD5\n",
              "BAgAkE6AAADpBAgAkE6AAADpBAgAkE6AAADpBAgAkE6AAADpBAgAkE6AAADpBAgAkE6AAADpBAgA\n",
              "kE6AAADpBAgAkE6AAADpBAgAkE6AAADpBAgAkE6AAADpBAgAkE6AAADpBAgAkE6AAADpBAgAkK7h\n",
              "AfLaa6/FCSecEKtXr270qQCAY0TDA2Tr1q1x9tlnx7333huvv/56o08HABwDGh4gmzdvjg0bNsT5\n",
              "558fW7dubfTpAIBjQGsjv/jzzz8fvb29cdFFF8XQ0FDccMMNh/0oZnBwMAYHB0c/ebA0cjwAoCIN\n",
              "vQKyefPmuPLKK2PixInx8Y9/PPbs2RM7duw45LGbNm2Ktra2UY/9e/oaOR4AUJGWUkpDLjMcOHAg\n",
              "2tvb47jjjovjjjsuIiL+9re/xdq1a+Ob3/zmm44/1BWQ/7r4gph8xUcbMR4AjFt/XHVD1SM07iOY\n",
              "++67Lzo7O+OJJ54YeW7Hjh2xZMmS2LRp00iUvKFWq0WtVhv9RSa2NGo8AKBCDfsIZvPmzXHFFVeM\n",
              "eq6rqyva29vj/vvvb9RpAYBjQMOugDz44IOHfH779u2NOiUAcIzwL6ECAOkECACQToAAAOkECACQ\n",
              "ToAAAOkECACQToAAAOkECACQToAAAOkECACQToAAAOkECACQToAAAOkECACQToAAAOkECACQToAA\n",
              "AOkECACQToAAAOkECACQToAAAOkECACQToAAAOkECACQToAAAOlaqx7gSNZ1nxc3rbqh6jEAgKPM\n",
              "FRAAIJ0AAQDSCRAAIJ0AAQDSCRAAIJ0AAQDSCRAAIJ0AAQDSCRAAIJ0AAQDSCRAAIJ0AAQDSCRAA\n",
              "IJ0AAQDSCRAAIJ0AAQDSCRAAIJ0AAQDSCRAAIJ0AAQDSCRAAIJ0AAQDSCRAAIJ0AAQDSCRAAIJ0A\n",
              "AQDSCRAAIJ0AAQDSCRAAIJ0AAQDStVY9wOEMDg7GQw89FAcPHoyJEydWPc64cfDgwfj1r38dixcv\n",
              "tvdkdl8Ne6+O3VcjY++zZ8+Or3zlK0c8pqWUUhpy9v/QwMBAtLW1RX9/f0yaNKnqccYNe6+O3VfD\n",
              "3qtj99UYK3v3EQwAkE6AAADpBAgAkG7MBkitVotrr702arVa1aOMK/ZeHbuvhr1Xx+6rMVb2PmZv\n",
              "QgUAmteYvQICADQvAQIApBMgAEC6ygNk586d8aEPfShOO+20OOecc+K555475HGbN2+OuXPnxqmn\n",
              "nhpr166NAwcOJE/aXOrZ+7Zt22Lx4sUxb9686O7ujvXr18fw8HAF0zaXev/MR0SUUuKCCy6IyZMn\n",
              "5w3YpOrd++9+97tYsmRJdHV1RVdXV9x7773JkzafenY/PDwc11xzTcybNy/OOuusWLp0aezatauC\n",
              "aZvHl7/85ejo6IiWlpZ4+umnD3tcZe+vpWJLly4tt912WymllLvuuqssWrToTcfs3r27zJgxo/T1\n",
              "9ZXh4eGyYsWK8r3vfS950uZSz963b99e/vCHP5RSSvnnP/9Zzj333JHX8M7Vs/s3fOtb3ypr1qwp\n",
              "bW1tOcM1sXr2/ve//728973vLY8//ngppZShoaHyl7/8JXPMplTP7n/0ox+VxYsXl/3795dSSvnG\n",
              "N75RLrnkkswxm85jjz1Went7y+zZs8tTTz11yGOqfH+tNEBefPHF8u53v7scOHCglFLK8PBwOfnk\n",
              "k8vOnTtHHXfjjTeWz3/+8yO//ulPf1rOPffc1FmbSb17//++9KUvlWuvvTZhwub1dnb/7LPPlvPO\n",
              "O6/s2rVLgPyH6t37rbfeWj796U9XMWLTqnf3P/7xj8v8+fPLwMBAGR4eLl/96lfL1VdfXcXITedI\n",
              "AVLl+2ulH8H09vbGjBkzorX13z8Tr6WlJWbNmhU9PT2jjuvp6YnZs2eP/Lqjo+NNx1C/evf+f73w\n",
              "wgtx9913x/Lly7PGbEr17v7AgQOxdu3auOWWW/yQrqOg3r0///zzUavVYvny5bFgwYK48sor46WX\n",
              "Xqpi5KZR7+5XrFgRS5YsiVNOOSVmzJgRjzzySHz961+vYuRxpcr318rvAWHsGxgYiBUrVsT69etj\n",
              "0aJFVY8zLlx33XVx8cUXR1dXV9WjjCtDQ0Px85//PG655ZZ46qmnor29Pb74xS9WPda48Nvf/jae\n",
              "ffbZ+NOf/hR//vOf48ILL4wvfOELVY9FA1UaIDNnzoy+vr4YGhqKiH/fcNfT0xOzZs0addysWbNi\n",
              "3759I7/eu3fvm46hfvXuPSLitddei2XLlsUnPvGJuOaaa7JHbTr17v6xxx6L7373u9HR0REf/vCH\n",
              "Y2BgIDo6Ovxt/B16O/+vWbp0abS3t0dLS0t85jOfiSeeeKKKkZtGvbu/4447Rm64njBhQlx11VXx\n",
              "i1/8ooqRx5Uq318rDZCTTjopFi5cGD/84Q8jIuKee+6J97znPTFnzpxRx61cuTLuu+++eOGFF6KU\n",
              "EjfffHNcfvnlVYzcFOrd++uvvx7Lli2LZcuWxde+9rUqRm069e7+8ccfj3379sXevXvjl7/8ZUya\n",
              "NCn27t0b06dPr2LsY169e7/00kvjN7/5TQwMDERExIMPPhjz589Pn7eZ1Lv7zs7O2LZtW+zfvz8i\n",
              "Ih544IE444wz0ucdbyp9f0250+QIfv/735cPfvCDZe7cueXss88uzzzzTCmllNWrV5ef/OQnI8d9\n",
              "//vfL52dnaWzs7N87nOfG7lTmnemnr1ff/31pbW1tcyfP3/kcf3111c5dlOo98/8G/bs2eMm1KOg\n",
              "3r3fcccdpbu7u5x55pll2bJlpaenp6qRm0Y9u//Xv/5V1qxZU04//fRy5plnlo997GMj34XHO7Nu\n",
              "3brS3t5eJk6cWE466aRy6qmnllLGzvurnwUDAKRzEyoAkE6AAADpBAgAkE6AAADpBAgAkE6AAADp\n",
              "BAgAkE6AAADpBAgAkE6AAADpBAgAkO5/ANohqwBNmJpNAAAAAElFTkSuQmCC\n",
              "\">\n",
              "      </div>\n",
              "      <script type=\"text/javascript\">\n",
              "        (() => {\n",
              "          const chartElement = document.getElementById(\"chart-280eff0b-5f83-4346-aea3-54720c89a5f0\");\n",
              "          async function getCodeForChartHandler(event) {\n",
              "            const chartCodeResponse =  await google.colab.kernel.invokeFunction(\n",
              "                'getCodeForChart', [\"chart-280eff0b-5f83-4346-aea3-54720c89a5f0\"], {});\n",
              "            const responseJson = chartCodeResponse.data['application/json'];\n",
              "            await google.colab.notebook.addCell(responseJson.code, 'code');\n",
              "          }\n",
              "          chartElement.onclick = getCodeForChartHandler;\n",
              "        })();\n",
              "      </script>\n",
              "      <style>\n",
              "        .colab-quickchart-chart-with-code  {\n",
              "            display: block;\n",
              "            float: left;\n",
              "            border: 1px solid transparent;\n",
              "        }\n",
              "\n",
              "        .colab-quickchart-chart-with-code:hover {\n",
              "            cursor: pointer;\n",
              "            border: 1px solid #aaa;\n",
              "        }\n",
              "      </style>"
            ]
          },
          "metadata": {}
        }
      ]
    },
    {
      "cell_type": "code",
      "source": [
        "import matplotlib.pyplot as plt\n",
        "STUDENT = ['RAJ','PUJA','RANI','VINAY']\n",
        "ID = [100,101,102,103]\n",
        "STUDENT_series = pd.Series(STUDENT)\n",
        "id_series = pd.Series(ID)\n",
        "frame = {'STUDENT':STUDENT_series, 'ID':id_series}\n",
        "Result = pd.DataFrame(frame)\n",
        "print(Result)"
      ],
      "metadata": {
        "colab": {
          "base_uri": "https://localhost:8080/"
        },
        "id": "v_eTK0Y4DlrU",
        "outputId": "d0bd07b4-c12e-42c4-8ec2-cf7b6566adf4"
      },
      "execution_count": 6,
      "outputs": [
        {
          "output_type": "stream",
          "name": "stdout",
          "text": [
            "  STUDENT   ID\n",
            "0     RAJ  100\n",
            "1    PUJA  101\n",
            "2    RANI  102\n",
            "3   VINAY  103\n"
          ]
        }
      ]
    }
  ]
}